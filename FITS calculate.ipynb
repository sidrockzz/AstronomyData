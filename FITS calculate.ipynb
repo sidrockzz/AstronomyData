{
 "cells": [
  {
   "cell_type": "code",
   "execution_count": null,
   "metadata": {
    "collapsed": true
   },
   "outputs": [],
   "source": [
    "import os\n",
    "from statistics import mean\n",
    "\n",
    "import numpy as np\n",
    "import matplotlib.pyplot as plt\n",
    "from astropy.io import fits"
   ]
  },
  {
   "cell_type": "code",
   "execution_count": null,
   "outputs": [],
   "source": [
    "\n",
    "def calculate_mean(data):\n",
    "    return mean(data)\n",
    "#return np.mean(data)\n",
    "\n",
    "print(calculate_mean([1, 2.2, 0.3, 3.4, 7.9]))\n",
    "print(calculate_mean([1.2, 3.8, 2.2, 8.2, 7.1]))"
   ],
   "metadata": {
    "collapsed": false,
    "pycharm": {
     "name": "#%%\n"
    }
   }
  },
  {
   "cell_type": "code",
   "execution_count": null,
   "outputs": [],
   "source": [
    "#Write a calc_stats function that reads data from a CSV file and calculates its mean and the median. Your function should take the name of the file as an argument and return the mean and median in a tuple, rounded to one decimal place.\n",
    "\n",
    "def calc_stats(file):\n",
    "    \"\"\"Return mean and median up to one decimal place.\"\"\"\n",
    "    data = np.loadtxt(file, delimiter=',')\n",
    "    return np.round(np.mean(data), 1), np.round(np.median(data), 1)\n",
    "\n",
    "\n",
    "\n",
    "# You can use this to test your function.\n",
    "# Any code inside this `if` statement will be ignored by the automarker.\n",
    "if __name__ == '__main__':\n",
    "  # Run your `calc_stats` function with examples:\n",
    "  mean = calc_stats('data.csv')\n",
    "  print(mean)"
   ],
   "metadata": {
    "collapsed": false,
    "pycharm": {
     "name": "#%%\n"
    }
   }
  },
  {
   "cell_type": "code",
   "execution_count": null,
   "outputs": [],
   "source": [
    "#Write a mean_datasets function that reads in a list of CSV files and returns an array of the mean of each cell in the data files.\n",
    "def mean_datasets(files):\n",
    "    sum_data = sum(np.loadtxt(file, delimiter=',') for file in files)\n",
    "    return np.round(sum_data/len(files), 1)\n",
    "\n",
    "\n",
    "# You can use this to test your function.\n",
    "# Any code inside this `if` statement will be ignored by the automarker.\n",
    "if __name__ == '__main__':\n",
    "  # Run your function with the first example from the question:\n",
    "  print(mean_datasets(['data1.csv', 'data2.csv', 'data3.csv']))\n",
    "\n",
    "  # Run your function with the second example from the question:\n",
    "  print(mean_datasets(['data4.csv', 'data5.csv', 'data6.csv']))"
   ],
   "metadata": {
    "collapsed": false,
    "pycharm": {
     "name": "#%%\n"
    }
   }
  },
  {
   "cell_type": "code",
   "execution_count": null,
   "outputs": [],
   "source": [
    "#Write a load_fits function that loads in a FITS file and finds the position of the brightest pixel (i.e. the maximum value) in its image data. To make this function work for arbitrary files, pass the name of the FITS file as an argument to the function.\n",
    "\n",
    "# Write your load_fits function here.\n",
    "def load_fits(file):\n",
    "    data = fits.open(file)[0].data\n",
    "    return np.unravel_index(np.argmax(data, axis=None), data.shape)\n",
    "\n",
    "if __name__ == '__main__':\n",
    "  # Run your `load_fits` function with examples:\n",
    "  bright = load_fits('image1.fits')\n",
    "  print(bright)\n",
    "\n",
    "  # You can also confirm your result visually:\n",
    "\n",
    "  hdulist = fits.open('image1.fits')\n",
    "  data = hdulist[0].data\n",
    "\n",
    "  # Plot the 2D image data\n",
    "  plt.imshow(data.T, cmap=plt.cm.viridis)\n",
    "  plt.colorbar()\n",
    "  plt.show()\n",
    "\n",
    "\n",
    "\n"
   ],
   "metadata": {
    "collapsed": false,
    "pycharm": {
     "name": "#%%\n"
    }
   }
  },
  {
   "cell_type": "code",
   "execution_count": null,
   "outputs": [],
   "source": [
    "#Write a mean_fits function that takes a list of FITS files as an argument, reads them in, and returns the mean image data of the FITS files. All the images have the same dimensions and your calculated mean array should match those dimensions.\n",
    "\n",
    "# Write your mean_fits function here:\n",
    "\n",
    "def mean_fits(files):\n",
    "    sum_data = sum(fits.open(file)[0].data for file in files)\n",
    "    return sum_data/len(files)\n",
    "\n",
    "if __name__ == '__main__':\n",
    "  \n",
    "  # Test your function with examples from the question\n",
    "  data  = mean_fits(['image0.fits', 'image1.fits', 'image2.fits'])\n",
    "  print(data[100, 100])\n",
    "\n",
    "  # You can also plot the result:\n",
    "  plt.imshow(data.T, cmap=plt.cm.viridis)\n",
    "  plt.colorbar()\n",
    "  plt.show()"
   ],
   "metadata": {
    "collapsed": false,
    "pycharm": {
     "name": "#%%\n"
    }
   }
  }
 ],
 "metadata": {
  "kernelspec": {
   "display_name": "Python 3",
   "language": "python",
   "name": "python3"
  },
  "language_info": {
   "codemirror_mode": {
    "name": "ipython",
    "version": 2
   },
   "file_extension": ".py",
   "mimetype": "text/x-python",
   "name": "python",
   "nbconvert_exporter": "python",
   "pygments_lexer": "ipython2",
   "version": "2.7.6"
  }
 },
 "nbformat": 4,
 "nbformat_minor": 0
}